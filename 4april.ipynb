{
  "nbformat": 4,
  "nbformat_minor": 0,
  "metadata": {
    "colab": {
      "name": "4april.ipynb",
      "provenance": [],
      "collapsed_sections": [],
      "authorship_tag": "ABX9TyMvX4uj1OxN0mHiweKyaOj5",
      "include_colab_link": true
    },
    "kernelspec": {
      "name": "python3",
      "display_name": "Python 3"
    },
    "language_info": {
      "name": "python"
    }
  },
  "cells": [
    {
      "cell_type": "markdown",
      "metadata": {
        "id": "view-in-github",
        "colab_type": "text"
      },
      "source": [
        "<a href=\"https://colab.research.google.com/github/BeushevArtem/project/blob/main/4april.ipynb\" target=\"_parent\"><img src=\"https://colab.research.google.com/assets/colab-badge.svg\" alt=\"Open In Colab\"/></a>"
      ]
    },
    {
      "cell_type": "code",
      "execution_count": null,
      "metadata": {
        "id": "pXOYSdNLMck4",
        "colab": {
          "base_uri": "https://localhost:8080/",
          "height": 287
        },
        "outputId": "cd0e92a5-a0a3-4216-e1c7-7748a179ee70"
      },
      "outputs": [
        {
          "output_type": "stream",
          "name": "stdout",
          "text": [
            "['cat male', 'dog male', 'cat female']\n",
            "['cat', 'dog', 'cat']\n",
            "['male', 'male', 'female']\n"
          ]
        },
        {
          "output_type": "error",
          "ename": "TypeError",
          "evalue": "ignored",
          "traceback": [
            "\u001b[0;31m---------------------------------------------------------------------------\u001b[0m",
            "\u001b[0;31mTypeError\u001b[0m                                 Traceback (most recent call last)",
            "\u001b[0;32m<ipython-input-33-105ea78b2e17>\u001b[0m in \u001b[0;36m<module>\u001b[0;34m()\u001b[0m\n\u001b[1;32m     20\u001b[0m     \u001b[0mk\u001b[0m \u001b[0;34m=\u001b[0m \u001b[0;36m0\u001b[0m\u001b[0;34m;\u001b[0m\u001b[0;34m\u001b[0m\u001b[0;34m\u001b[0m\u001b[0m\n\u001b[1;32m     21\u001b[0m     \u001b[0;32mfor\u001b[0m \u001b[0msravn\u001b[0m \u001b[0;32min\u001b[0m \u001b[0mspisokanimal\u001b[0m\u001b[0;34m:\u001b[0m\u001b[0;34m\u001b[0m\u001b[0;34m\u001b[0m\u001b[0m\n\u001b[0;32m---> 22\u001b[0;31m         \u001b[0;32mif\u001b[0m \u001b[0msravn\u001b[0m\u001b[0;34m==\u001b[0m\u001b[0mline\u001b[0m \u001b[0;32mand\u001b[0m \u001b[0mline\u001b[0m\u001b[0;34m.\u001b[0m\u001b[0mindex\u001b[0m\u001b[0;34m(\u001b[0m\u001b[0;34m)\u001b[0m\u001b[0;34m!=\u001b[0m\u001b[0msravn\u001b[0m\u001b[0;34m.\u001b[0m\u001b[0mindex\u001b[0m\u001b[0;34m(\u001b[0m\u001b[0;34m)\u001b[0m\u001b[0;34m:\u001b[0m\u001b[0;34m\u001b[0m\u001b[0;34m\u001b[0m\u001b[0m\n\u001b[0m\u001b[1;32m     23\u001b[0m             \u001b[0;32mif\u001b[0m \u001b[0mspisokpol\u001b[0m\u001b[0;34m(\u001b[0m\u001b[0msravn\u001b[0m\u001b[0;34m.\u001b[0m\u001b[0mindex\u001b[0m\u001b[0;34m(\u001b[0m\u001b[0;34m)\u001b[0m\u001b[0;34m)\u001b[0m \u001b[0;34m!=\u001b[0m \u001b[0mspisokpol\u001b[0m\u001b[0;34m(\u001b[0m\u001b[0mline\u001b[0m\u001b[0;34m.\u001b[0m\u001b[0mindex\u001b[0m\u001b[0;34m(\u001b[0m\u001b[0;34m)\u001b[0m\u001b[0;34m)\u001b[0m\u001b[0;34m:\u001b[0m\u001b[0;34m\u001b[0m\u001b[0;34m\u001b[0m\u001b[0m\n\u001b[1;32m     24\u001b[0m                 \u001b[0mnewspisokanimal\u001b[0m\u001b[0;34m.\u001b[0m\u001b[0mappend\u001b[0m \u001b[0;34m(\u001b[0m\u001b[0mline\u001b[0m\u001b[0;34m)\u001b[0m\u001b[0;34m\u001b[0m\u001b[0;34m\u001b[0m\u001b[0m\n",
            "\u001b[0;31mTypeError\u001b[0m: index() takes at least 1 argument (0 given)"
          ]
        }
      ],
      "source": [
        "spisok = []\n",
        "spisokpol = []\n",
        "spisokanimal = []\n",
        "newspisokanimal = []\n",
        "file = open ('input.txt')\n",
        "for line in file:\n",
        "    #line.find(' ')\n",
        "    #  line = line [line.find(' ')+1:line.find(' ',line.find(' ')+1)] - выдернет животное\n",
        "    # line = line [line.find(' ')+1:line.find(' ',line.find(' ',line.find(' ')+1)+1)] - выдернет животное и пол\n",
        "    line = line [line.find(' ')+1:line.find(' ',line.find(' ',line.find(' ')+1)+1)] #животное и пол\n",
        "    spisok.append (line)\n",
        "    spisokpol.append (line[0:line.find(' ')])\n",
        "    spisokanimal.append (line[line.find(' ')+1:])\n",
        "file.close()\n",
        "print (spisok)\n",
        "print (spisokpol)\n",
        "print (spisokanimal)\n",
        "lAnimal=0;\n",
        "for line in spisokanimal:\n",
        "    lAnimal=lAnimal+1;\n",
        "    sAnimal=0; #короче сравнивать два списка по индексам, фигню снизу изменить\n",
        "    for sravn in spisokanimal:\n",
        "        sAnimal = sAnimal + 1;\n",
        "        if sravn==line and :\n",
        "            if spisokpol(sravn.index()) != spisokpol(line.index()):\n",
        "                newspisokanimal.append (line)\n",
        "#for line in spisok:\n"
      ]
    }
  ]
}